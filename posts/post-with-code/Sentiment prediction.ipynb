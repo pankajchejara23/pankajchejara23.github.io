{
 "cells": [
  {
   "cell_type": "raw",
   "id": "f9d09f7d",
   "metadata": {},
   "source": [
    "---\n",
    "title: \"Sentiment prediction using Pytorch\"\n",
    "author: \"Pankaj Chejara\"\n",
    "date: \"2023-11-02\"\n",
    "categories: [python,nlp,pytorch,yelp]\n",
    "image: \"./images/nlp_projects/sentiment_yelp_1.png\"\n",
    "code-block-background: true\n",
    "highlight-style: \"arrow\"\n",
    "toc: true\n",
    "---"
   ]
  },
  {
   "attachments": {},
   "cell_type": "markdown",
   "id": "e51a2305",
   "metadata": {},
   "source": [
    "# YelpClassifier: Sentiment prediction using PyTorch\n",
    "\n",
    "This year, I started exploring NLP (natural language processing) given its huge potential for building intelligent systems capable of understanding and generating text in human languages. In this exploration, I have developed an understanding of how nlp applications works. I am now engaging myself with building real-life applications.  \n",
    "\n",
    "This post reflects upon my understanding of NLP and pitch to build a sentiment classifier with the help of an example. The example is taken from the book that I am reading to gain a deeper understanding of nlp from the practical side [**Natural Language Processing with PyTorch: Build Intelligent Language Applications Using Deep Learning**](https://www.oreilly.com/library/view/natural-language-processing/9781491978221/).\n",
    "\n",
    "\n",
    "I hope this post will be helpful for others who are starting to learn more about NLP."
   ]
  },
  {
   "attachments": {},
   "cell_type": "markdown",
   "id": "d7fb37be",
   "metadata": {},
   "source": [
    "## Yelp Dataset\n",
    "In this post, I have used a smaller version of [Yelp dataset](https://github.com/pankajchejara23/nlp_projects/blob/main/yelp_classifier/yelp/reviews_with_splits_lite.csv) which is a dataset of customer's reviews and ratings. The dataset is a processed version of the original dataset. \n",
    "\n",
    "For example, in original dataset the ratings are given from 1 to 5, while in this dataset ratings are divied into two categories, i.e., negative and positive. Addtionally, the dataset is already partitioned into train, val and test sets.\n",
    "\n",
    "Let's see how the records in the yelp dataset look like\n"
   ]
  },
  {
   "cell_type": "code",
   "execution_count": 19,
   "id": "2a7880b5",
   "metadata": {},
   "outputs": [
    {
     "name": "stdout",
     "output_type": "stream",
     "text": [
      "Size: 56000\n"
     ]
    },
    {
     "data": {
      "text/html": [
       "<div>\n",
       "<style scoped>\n",
       "    .dataframe tbody tr th:only-of-type {\n",
       "        vertical-align: middle;\n",
       "    }\n",
       "\n",
       "    .dataframe tbody tr th {\n",
       "        vertical-align: top;\n",
       "    }\n",
       "\n",
       "    .dataframe thead th {\n",
       "        text-align: right;\n",
       "    }\n",
       "</style>\n",
       "<table border=\"1\" class=\"dataframe\">\n",
       "  <thead>\n",
       "    <tr style=\"text-align: right;\">\n",
       "      <th></th>\n",
       "      <th>rating</th>\n",
       "      <th>review</th>\n",
       "      <th>split</th>\n",
       "    </tr>\n",
       "  </thead>\n",
       "  <tbody>\n",
       "    <tr>\n",
       "      <th>0</th>\n",
       "      <td>negative</td>\n",
       "      <td>all i can say is that a i had no other option ...</td>\n",
       "      <td>train</td>\n",
       "    </tr>\n",
       "    <tr>\n",
       "      <th>1</th>\n",
       "      <td>negative</td>\n",
       "      <td>i went here once when my long time stylist mov...</td>\n",
       "      <td>train</td>\n",
       "    </tr>\n",
       "    <tr>\n",
       "      <th>2</th>\n",
       "      <td>negative</td>\n",
       "      <td>i don t know why i stopped here for lunch this...</td>\n",
       "      <td>train</td>\n",
       "    </tr>\n",
       "    <tr>\n",
       "      <th>3</th>\n",
       "      <td>negative</td>\n",
       "      <td>did i order the wrong thing ? or maybe it was ...</td>\n",
       "      <td>train</td>\n",
       "    </tr>\n",
       "    <tr>\n",
       "      <th>4</th>\n",
       "      <td>negative</td>\n",
       "      <td>i went here for restaurant week . the restaura...</td>\n",
       "      <td>train</td>\n",
       "    </tr>\n",
       "  </tbody>\n",
       "</table>\n",
       "</div>"
      ],
      "text/plain": [
       "     rating                                             review  split\n",
       "0  negative  all i can say is that a i had no other option ...  train\n",
       "1  negative  i went here once when my long time stylist mov...  train\n",
       "2  negative  i don t know why i stopped here for lunch this...  train\n",
       "3  negative  did i order the wrong thing ? or maybe it was ...  train\n",
       "4  negative  i went here for restaurant week . the restaura...  train"
      ]
     },
     "execution_count": 19,
     "metadata": {},
     "output_type": "execute_result"
    }
   ],
   "source": [
    "import pandas as pd\n",
    "\n",
    "# reading yelp dataset file\n",
    "df = pd.read_csv('./yelp/reviews_with_splits_lite.csv')\n",
    "\n",
    "print('Size:',df.shape[0])\n",
    "\n",
    "df.head()"
   ]
  },
  {
   "cell_type": "markdown",
   "id": "7817faeb",
   "metadata": {},
   "source": [
    "In the dataset, we have three columns: rating, review and split. The first column is the rating assigned by the customers. The second column is the text review and the final column contains labels to decide whether the record belongs to a train, val or test set."
   ]
  },
  {
   "cell_type": "markdown",
   "id": "0928bed1",
   "metadata": {},
   "source": [
    "We want to **build a classifier** that can predict the rating given the review. So the text review will be input to the classifier and the rating will be predicted.\n",
    "\n",
    "The challenge we have here is that the input and output data both are in text format while machine learning works only with numbers. To address this challenge, we need to find a way to transform our text review data into numbers which is also known as vectorization in nlp. "
   ]
  },
  {
   "attachments": {
    "sentiment_yelp_1_vec.png": {
     "image/png": "[encoded data removed]"
    }
   },
   "cell_type": "markdown",
   "id": "edb675c2",
   "metadata": {},
   "source": [
    "Let's understand the basic of vectorization. The below image offers an pictorial presentation of vectorization process.\n",
    "\n",
    "\n",
    "![vectorization](attachment:sentiment_yelp_1_vec.png)"
   ]
  },
  {
   "attachments": {},
   "cell_type": "markdown",
   "id": "7b6bb90d",
   "metadata": {},
   "source": [
    "We have a text review that we like to vectorize or convert into a sequence of numbers. There are multiple ways to do that, and we will use the most basic technique for understanding purpose, i.e., using a vocabulary. Vocabulary is a storage that stores words as represented in the above figure. \n",
    "In other terms, vocabulary offers a mapping service between words and their stored location (or index). For example, the one shown in the above figure stores 500 words and each word has an associated index. \n",
    "\n",
    "\n",
    "The vectorization process will start with creating a vector of size 500. The process then checks which words of vocabulary are present in the text and sets their corresponding values in the vector as 1. \n",
    "\n",
    "For example, the first word of the vocabulary (i.e., one) is not present in the review text, therefore, there is 0 in the vector at the start position. Then the next word in the vocabulary is checked (i.e., i). Now this time 'i' is present in the review text, therefore, 1 is stored next in the vector, and so on. This process is repeated for every word stored in the vocabulary."
   ]
  },
  {
   "cell_type": "markdown",
   "id": "781561ea",
   "metadata": {},
   "source": [
    "## Building a machine model to predict rating based on review text\n",
    "As we have seen in the example above we need to vectorize the review text, and for that we need a vocabulary and a vectorizer.\n",
    "\n",
    "We will start by creating a vocabulary and vectorizer class."
   ]
  },
  {
   "cell_type": "markdown",
   "id": "769a4702",
   "metadata": {},
   "source": [
    "### Building vocabulary for the review text\n",
    "The core process of building a vocabulary includes scanning all the text, breaking it into words, and storing unique words. In addition to storing, vocabulary also provides the functionality of mapping between words (or tokens) and their respective indices (i.e., where those words are stored).\n",
    "\n",
    "The following class offers those functionalities. There is a possibility that during the vectorization process, we are likely to have words that are not available in the vocabulary. To handle those cases, we can store some special words representing all unavailable words, e.g., '\\<UNK\\>'."
   ]
  },
  {
   "cell_type": "code",
   "execution_count": 20,
   "id": "4a2c3463",
   "metadata": {},
   "outputs": [],
   "source": [
    "class Vocabulary(object):\n",
    "    def __init__(self, token_to_idx = None, add_unk=True, unk_token='<UNK>'):\n",
    "        \"\"\"\n",
    "        params:\n",
    "            token_to_idx (dict): mapping from token to index\n",
    "            add_unk (bool): flag to add a special token to the vocabulary for unknowns tokens\n",
    "            unk_token (str): Token used as special token\n",
    "        \n",
    "        \"\"\"\n",
    "        if token_to_idx is None:\n",
    "            token_to_idx ={}\n",
    "        \n",
    "        self._token_to_idx = token_to_idx\n",
    "        self._idx_to_token = {idx:token for token,idx in token_to_idx}\n",
    "        \n",
    "        self._add_unk = add_unk\n",
    "        self._unk_token = unk_token\n",
    "        \n",
    "        self.unk_index = -1\n",
    "        if add_unk:\n",
    "            self.unk_index = self.add_token(unk_token)\n",
    "            \n",
    "    def to_serialize(self):\n",
    "        \"\"\" function to serialize the content of vocabulary\n",
    "        \"\"\"\n",
    "        return {'idx_to_token':self._idx_to_token,\n",
    "               'add_unk':self._add_unk,\n",
    "               'unk_token':self._unk_token}\n",
    "    \n",
    "    @classmethod\n",
    "    def from_serializable(cls,contents):\n",
    "        \"\"\"\n",
    "        class function to create a vocabulary from serialized content\n",
    "        \"\"\"\n",
    "        return cls(**contents)\n",
    "    \n",
    "    def add_token(self,token):\n",
    "        \"\"\"\n",
    "        Add token to the vocabulary\n",
    "        \n",
    "        params:\n",
    "            token (str): token to add to the vocabulary\n",
    "            \n",
    "        returns:\n",
    "            idx (int): index of token\n",
    "        \n",
    "        \"\"\"\n",
    "        if token in self._token_to_idx:\n",
    "            return self._token_to_idx[token]\n",
    "        else:\n",
    "            idx = len(self)\n",
    "            self._token_to_idx[token] = idx\n",
    "            self._idx_to_token[idx] = token\n",
    "        return idx\n",
    "    \n",
    "    \n",
    "    def lookup_idx(self,idx):\n",
    "        \"\"\"\n",
    "        Lookup vocabulary to fetch  token at idx\n",
    "        \n",
    "        params:\n",
    "            idx(int) : index of token to be fetched\n",
    "            \n",
    "        returns:\n",
    "            token (str): token stored at idx\n",
    "        \"\"\"\n",
    "        if idx not in self._idx_to_token:\n",
    "            raise KeyError(\"Vocabulary does not have token with specified index:\"%idx)\n",
    "        return self._idx_to_token[idx]\n",
    "    \n",
    "\n",
    "    def lookup_token(self,token):\n",
    "        \"\"\"\n",
    "        Lookup vocabulary to fetch index of a token\n",
    "        \n",
    "        params:\n",
    "            token(str): token to lookup\n",
    "            \n",
    "        returns:\n",
    "            idx (int): index of token\n",
    "        \"\"\"\n",
    "        \n",
    "        if token not in self._token_to_idx:\n",
    "            return self.unk_index\n",
    "        else:\n",
    "            return self._token_to_idx[token]\n",
    "    \n",
    "    def __len__(self):\n",
    "        return len(self._idx_to_token)\n",
    "    \n",
    "    \n",
    "    def __str__(self):\n",
    "        return \"Vocabulary (size = %d)\" % len(self)\n",
    "    \n",
    "    "
   ]
  },
  {
   "cell_type": "markdown",
   "id": "d6716a78",
   "metadata": {},
   "source": [
    "#### Examples of Vocabulary class\n",
    "\n",
    "Let's see one example of using Vocabulary class for the following text. \n",
    "\n",
    "```\n",
    "text = \"\"\"This is a good example of illustrating the use of pytorch for natural language processing. The example shows how to build a vocabulary which is a collection of words and their mapping to their corresponding indices. \"\"\"\n",
    "```"
   ]
  },
  {
   "cell_type": "code",
   "execution_count": 21,
   "id": "092a3702",
   "metadata": {},
   "outputs": [
    {
     "name": "stdout",
     "output_type": "stream",
     "text": [
      "{'<UNK>': 0, 'This': 1, 'is': 2, 'a': 3, 'good': 4, 'example': 5, 'of': 6, 'illustrating': 7, 'the': 8, 'use': 9, 'pytorch': 10, 'for': 11, 'natural': 12, 'language': 13, 'processing.': 14, 'The': 15, 'shows': 16, 'how': 17, 'to': 18, 'build': 19, 'vocabulary': 20, 'which': 21, 'collection': 22, 'words': 23, 'and': 24, 'their': 25, 'mapping': 26, 'corresponding': 27, 'indices.': 28}\n"
     ]
    }
   ],
   "source": [
    "# raw text\n",
    "text = \"\"\"This is a good example of illustrating the use of pytorch for natural language processing. The example shows how to build a vocabulary which is a collection of words and their mapping to their corresponding indices. \"\"\"\n",
    "\n",
    "#preparing a vocabulary object\n",
    "voc = Vocabulary(add_unk=True)\n",
    "\n",
    "#adding token to the vocabulary\n",
    "for word in text.strip().split(' '):\n",
    "    voc.add_token(word)\n",
    "\n",
    "#printing vocabulary mapping\n",
    "print(voc._token_to_idx)\n"
   ]
  },
  {
   "cell_type": "markdown",
   "id": "d5f0524e",
   "metadata": {},
   "source": [
    "As we can see that each word mapped to an index. We also have one special token '\\<UNK\\>'. To see its usage, we will perform a lookup for a word which is not in the vocabulary."
   ]
  },
  {
   "cell_type": "code",
   "execution_count": 11,
   "id": "b953351e",
   "metadata": {},
   "outputs": [
    {
     "name": "stdout",
     "output_type": "stream",
     "text": [
      "0\n"
     ]
    }
   ],
   "source": [
    "# lookup for the word 'estonia'\n",
    "print(voc.lookup_token('estonia'))"
   ]
  },
  {
   "cell_type": "markdown",
   "id": "bdb4d59d",
   "metadata": {},
   "source": [
    "The vocabulary simply returned the index of '\\<UNK\\>'. "
   ]
  },
  {
   "cell_type": "markdown",
   "id": "e1003638",
   "metadata": {},
   "source": [
    "## Vectorizer\n",
    "Now, let's move to the vectorization process. This is the process where we will transform review text into vectors. These vectors will contain indices of each word in the review text.\n",
    "\n",
    "For example, let's say we have a text \"how to build\" which we want to vectorize. For that, we need a mapping (token to index) or vocabulary where we have information about indices of tokens.\n",
    "\n",
    "If we use our demo vocabulary from the above example then \"how to build\" will be transformed into a vector."
   ]
  },
  {
   "cell_type": "code",
   "execution_count": 22,
   "id": "28a01d3f",
   "metadata": {},
   "outputs": [
    {
     "name": "stdout",
     "output_type": "stream",
     "text": [
      "Vectorized version: [0, 0, 0, 0, 0, 0, 0, 0, 0, 0, 0, 0, 0, 0, 0, 0, 0, 1, 1, 1, 0, 0, 0, 0, 0, 0, 0, 0, 0]\n"
     ]
    }
   ],
   "source": [
    "# creating a list of vocabulary size\n",
    "vector = [0]* len(voc)\n",
    "\n",
    "# lookup for each token in the sentence\n",
    "for token in \"how to build\".split(' '):\n",
    "    \n",
    "    # fetch index of the current token\n",
    "    index = voc.lookup_token(token)\n",
    "    \n",
    "    # set the value at index as 1\n",
    "    vector[index] = 1\n",
    "print('Vectorized version:',vector)"
   ]
  },
  {
   "cell_type": "markdown",
   "id": "38f68073",
   "metadata": {},
   "source": [
    "Now, that we have an idea of what vectorizer does, we will move to create a vectorizer class offering text-to vector transformation functionality."
   ]
  },
  {
   "cell_type": "code",
   "execution_count": 23,
   "id": "c363a777",
   "metadata": {},
   "outputs": [],
   "source": [
    "class ReviewVectorizer(object):\n",
    "    \"\"\"\n",
    "    Vectorizer class to transform review text into vectors\n",
    "    \"\"\"\n",
    "    def __init__(self,review_vocab, rating_vocab):\n",
    "        \"\"\"\n",
    "        params:\n",
    "            review_vocab (Vocabulary): vocabulary object for review text\n",
    "            rating_vocab (Vocabulary): vocabulary obejct for rating \n",
    "        \"\"\"\n",
    "        self.review_vocab = review_vocab\n",
    "        self.rating_vocab = rating_vocab \n",
    "        \n",
    "    def vectorize(self,text):\n",
    "        \"\"\"\n",
    "        perform vectorization of given text\n",
    "        \n",
    "        params:\n",
    "            text (str): review text to transform into vector\n",
    "            \n",
    "        returns:\n",
    "            one_hot (array): returns one-hot encoding of text\n",
    "        \"\"\"\n",
    "        one_hot = np.zeros(len(self.review_vocab),dtype=np.float32)\n",
    "        \n",
    "        # iterate over each word in the  text\n",
    "        for word in text.strip().split():\n",
    "            # avoid if the word is a punctuation\n",
    "            if word not in string.punctuation:\n",
    "                # fetching index of the word \n",
    "                idx = self.review_vocab.lookup_token(word)\n",
    "                \n",
    "                # setting 1 at idx index\n",
    "                one_hot[idx] = 1\n",
    "                \n",
    "        return one_hot\n",
    "        \n",
    "    @classmethod\n",
    "    def from_dataframe(cls,review_df,cutoff=25):\n",
    "        \"\"\"\n",
    "        This function builds vocabulary for review text and rating.\n",
    "        \n",
    "        params:\n",
    "            review_df (pandas.DataFrame): dataframe containing yelp dataset\n",
    "            cutoff (int): a threshold to store words into vocabulary\n",
    "            \n",
    "        returns:\n",
    "            ReviewVectorizer object\n",
    "        \"\"\"\n",
    "        review_vocab = Vocabulary(add_unk=True)\n",
    "        rating_vocab = Vocabulary(add_unk=False)\n",
    "        \n",
    "        # adding all unique rating to the rating_vocubulary\n",
    "        for rating in review_df['rating'].unique():\n",
    "            rating_vocab.add_token(rating)\n",
    "            \n",
    "        word_count = {}\n",
    "        \n",
    "        # counting frequency of each word which appeared in the review text\n",
    "        for review in review_df.review:\n",
    "            for word in review.strip().split(' '):\n",
    "                if word not in string.punctuation:\n",
    "                    if word in word_count.keys():\n",
    "                        word_count[word] += 1\n",
    "                    else:\n",
    "                        word_count[word] = 1\n",
    "        \n",
    "        # adding tokens from review text to the review vocabulary\n",
    "        for word,count in word_count.items():\n",
    "            if count > cutoff:\n",
    "                review_vocab.add_token(word)\n",
    "        \n",
    "        return cls(review_vocab,rating_vocab)\n",
    "    \n",
    "    @classmethod\n",
    "    def from_serializable(cls, contents):\n",
    "        \"\"\"\n",
    "        class function to create ReviewVectorizer from serialzed contents\n",
    "        \n",
    "        params:\n",
    "            contents(dict): a dictionary containing contents for review and rating vacabulary\n",
    "        \n",
    "        returns:\n",
    "            ReviewVectorizer object\n",
    "        \"\"\"\n",
    "        \n",
    "        return cls(review_vocab = Vocabulary.from_serialiazable(contents['reivew_vocab']),\n",
    "                  rating_voca = Vocabulary.from_serializable(contents['rating_vocab']))\n",
    "    \n",
    "    def to_serializable(self):\n",
    "        \"\"\"\n",
    "        To serialize vocabularies \n",
    "        \n",
    "        returns:\n",
    "            contents (dict): contents of review and rating vocabularies\n",
    "        \n",
    "        \"\"\"\n",
    "        return {'review_vocab':self.review_vocab.to_serializable(),\n",
    "               'rating_vocab':self.rating_vocab.to_serializable()}"
   ]
  },
  {
   "cell_type": "markdown",
   "id": "ca8f0424",
   "metadata": {},
   "source": [
    "Now, we have vocabulary and vectorizer classes ready. Next, we need to create a dataset class inherting pytorch's `Dataset` class. This class enables uses of pytorch functionality with out dataset."
   ]
  },
  {
   "cell_type": "markdown",
   "id": "396d69da",
   "metadata": {},
   "source": [
    "### Creating Dataset \n",
    "Before training a machine learning model, usually there are some preprocessing tasks, e.g., vectorizing the text, converting images to tensors, etc. These tasks are generally performed separately from the model training. PyTorch offers a systematic way to abstract those tasks. Here, we will see the use of two classes 'Dataset' and 'DataLoader'. \n",
    "\n",
    "The first class is related to reading data files, performing some preprocessing tasks, and fetching training instances. While the second class offers a wrapper around the dataset class to fetch data in batches for training.\n",
    "\n",
    "Let's dive into the code."
   ]
  },
  {
   "cell_type": "code",
   "execution_count": 31,
   "id": "a718280d",
   "metadata": {},
   "outputs": [],
   "source": [
    "\n",
    "class YelpDataset(Dataset):\n",
    "    \"\"\"\n",
    "    Dataset class utilizing pytorch Dataset template\n",
    "    \n",
    "    \"\"\"\n",
    "    def __init__(self, review_df, vectorizer):\n",
    "        \"\"\"\n",
    "        review_df (pandas.DataFrame): dataframe containing yelp data records\n",
    "        vectorizer (ReviewVectorizer): ReviewVectorizer object\n",
    "        \"\"\"\n",
    "        self.review_df = review_df\n",
    "        self._vectorizer =  vectorizer \n",
    "        \n",
    "        self.train_df = self.review_df[self.review_df.split=='train']\n",
    "        self.train_size = self.train_df.shape[0]\n",
    "        \n",
    "        self.val_df = self.review_df[self.review_df.split=='val']\n",
    "        self.val_size = self.val_df.shape[0]\n",
    "        \n",
    "        self.test_df = self.review_df[self.review_df.split=='test']\n",
    "        self.test_size = self.test_df.shape[0]\n",
    "        \n",
    "        self._lookup_dict = {'train':(self.train_df,self.train_size),\n",
    "                             'val':(self.val_df,self.val_size),\n",
    "                             'test':(self.test_df,self.test_size)}\n",
    "        \n",
    "        self.set_split('train')\n",
    "        \n",
    "    def get_vectorizer(self):\n",
    "        return self._vectorizer\n",
    "        \n",
    "    @classmethod\n",
    "    def load_dataset_and_make_vectorizer(cls,review_csv):\n",
    "        \"\"\"class function to load dataset and initialize the vectorizer\n",
    "        \n",
    "        params: \n",
    "            review_csv (str): file_name\n",
    "        \n",
    "        returns:\n",
    "            ReviewDataset object\n",
    "        \"\"\"\n",
    "        \n",
    "        review_df = pd.read_csv(review_csv)\n",
    "        train_review_df = review_df[review_df.split=='train']\n",
    "        \n",
    "        return cls(review_df,ReviewVectorizer.from_dataframe(train_review_df))\n",
    "        \n",
    "    def set_split(self,split='train'):\n",
    "        \"\"\"\n",
    "        function to set the current active dataset\n",
    "        \n",
    "        params:\n",
    "            split (str): specify part of dataset to be used\n",
    "        \n",
    "        \"\"\"\n",
    "        self._target_split = split\n",
    "        self._target_df, self._target_size = self._lookup_dict[split]\n",
    "        \n",
    "    def __len__(self):\n",
    "        return self._target_size\n",
    "        \n",
    "    def __getitem__(self,idx):\n",
    "        \"\"\"\n",
    "        function to fetch record at index idx\n",
    "        \n",
    "        params:\n",
    "            idx (int): index of record to be fetched\n",
    "        \"\"\"\n",
    "        row = self._target_df.iloc[idx]\n",
    "        review_vector = self._vectorizer.vectorize(row.review)\n",
    "        review_rating = self._vectorizer.rating_vocab.lookup_token(row.rating)\n",
    "        return {'x_data':review_vector,\n",
    "               'y_target':review_rating}\n",
    "    \n",
    "    def get_num_batches(self,batch_size):\n",
    "        return self._target_size//batch_size"
   ]
  },
  {
   "cell_type": "markdown",
   "id": "2d901c60",
   "metadata": {},
   "source": [
    "To create a custom 'Dataset' class, two functions must be defined, i.e., __len__, __getitem__. The first function returns the length of the dataset and the second function fetches the training instance at a given index. \n",
    "\n",
    "In our YelpDataset class, we have added some more functions as well to simplify the loading of training, validation, and test sets. "
   ]
  },
  {
   "cell_type": "code",
   "execution_count": 32,
   "id": "66b4b68c",
   "metadata": {},
   "outputs": [],
   "source": [
    "# checking the dataset\n",
    "yelpDB = YelpDataset.load_dataset_and_make_vectorizer('./yelp/reviews_with_splits_lite.csv')"
   ]
  },
  {
   "cell_type": "code",
   "execution_count": 33,
   "id": "e2a82824",
   "metadata": {},
   "outputs": [
    {
     "name": "stdout",
     "output_type": "stream",
     "text": [
      "Split:train     Size:39200\n",
      "Split:test     Size:8400\n",
      "Split:val     Size:8400\n"
     ]
    }
   ],
   "source": [
    "for split in ['train','test','val']:\n",
    "    yelpDB.set_split(split)\n",
    "    print(f'Split:{split}     Size:{len(yelpDB)}')"
   ]
  },
  {
   "cell_type": "markdown",
   "id": "47dbc9df",
   "metadata": {},
   "source": [
    "We have our dataset ready. We can now make use of DataLoader from Pytorch to get data instanes in batches."
   ]
  },
  {
   "cell_type": "markdown",
   "id": "e016db3c",
   "metadata": {},
   "source": [
    "### DataLoader "
   ]
  },
  {
   "cell_type": "markdown",
   "id": "1b17ba6f",
   "metadata": {},
   "source": [
    "The following function creates a dataloader for our Yelp dataset. This dataloader return data in batches."
   ]
  },
  {
   "cell_type": "code",
   "execution_count": 35,
   "id": "0e185f91",
   "metadata": {},
   "outputs": [],
   "source": [
    "import string\n",
    "from torch.utils.data import Dataset\n",
    "from torch.utils.data import DataLoader\n",
    "import numpy as np\n",
    "\n",
    "def generate_batches(dataset, batch_size, shuffle=True,drop_last=True):\n",
    "    \"\"\"\n",
    "    function to get data batches\n",
    "    @ This code is targetted for cpu machines.\n",
    "    \n",
    "    params:\n",
    "        dataset (YelpDataset): YelpDataset object\n",
    "        batch_size (int): data batch size\n",
    "        shuffle (bool): Whether to shuffle data\n",
    "        drop_last (bool): flag to drop the last batch if it is less than the batch size\n",
    "        \n",
    "    \"\"\"\n",
    "    \n",
    "    dataloader = DataLoader(dataset=dataset, batch_size=batch_size,\n",
    "                            shuffle=shuffle, drop_last=drop_last)\n",
    "    for data_dict in dataloader:\n",
    "        out_data_dict = {}\n",
    "        \n",
    "        for name,tensor in data_dict.items():\n",
    "            out_data_dict[name] = data_dict[name]\n",
    "        yield out_data_dict"
   ]
  },
  {
   "cell_type": "markdown",
   "id": "eed7279e",
   "metadata": {},
   "source": [
    "Let's see now how one batch look like."
   ]
  },
  {
   "cell_type": "code",
   "execution_count": 39,
   "id": "23c0be6a",
   "metadata": {},
   "outputs": [
    {
     "name": "stdout",
     "output_type": "stream",
     "text": [
      "Size: torch.Size([100, 7356])\n",
      "Batch example: {'x_data': tensor([[1., 1., 1.,  ..., 0., 0., 0.],\n",
      "        [1., 0., 1.,  ..., 0., 0., 0.],\n",
      "        [1., 1., 1.,  ..., 0., 0., 0.],\n",
      "        ...,\n",
      "        [1., 1., 0.,  ..., 0., 0., 0.],\n",
      "        [0., 0., 1.,  ..., 0., 0., 0.],\n",
      "        [1., 1., 1.,  ..., 0., 0., 0.]]), 'y_target': tensor([0, 1, 0, 1, 1, 1, 1, 0, 1, 0, 1, 0, 0, 0, 1, 1, 0, 0, 1, 1, 0, 1, 0, 1,\n",
      "        1, 0, 0, 1, 1, 1, 0, 0, 1, 0, 0, 1, 1, 0, 1, 1, 1, 1, 1, 0, 0, 1, 1, 1,\n",
      "        1, 1, 0, 1, 0, 0, 1, 0, 0, 0, 0, 1, 0, 1, 0, 1, 0, 0, 0, 1, 1, 0, 1, 0,\n",
      "        0, 1, 1, 1, 0, 1, 0, 1, 0, 1, 0, 0, 1, 1, 1, 1, 1, 1, 0, 1, 0, 1, 1, 0,\n",
      "        0, 1, 0, 1])}\n"
     ]
    }
   ],
   "source": [
    "batch = next(iter(generate_batches(yelpDB,batch_size=100)))\n",
    "print('Size:',batch['x_data'].size())\n",
    "print('Batch example:',batch)"
   ]
  },
  {
   "cell_type": "markdown",
   "id": "d4390c15",
   "metadata": {},
   "source": [
    "### Building the classifier\n",
    "Now, we will move to build our neural network to classify review text into positive or negative categories of rating.\n",
    "To build a custom neural network, the 'Module' class needs to be inherited. The following class does that. \n",
    "\n",
    "Next, during the initialization (i.e., inside the __init__ function) neural network architecture is specified. In our case, we have having a single Linear layer.\n",
    "\n",
    "Finally, in the forward function the computation is performed. In the following class, we are simply performing linear computation of the form $W*X$ where $W$ represent weights and $X$ represent input data. On the computed result, the sigmoid function is applied. "
   ]
  },
  {
   "cell_type": "code",
   "execution_count": 46,
   "id": "ca1bac2e",
   "metadata": {},
   "outputs": [],
   "source": [
    "import torch\n",
    "from torch import nn\n",
    "from torch.nn import functional as F\n",
    "\n",
    "\n",
    "class ReviewClassifier(nn.Module):\n",
    "    \"\"\"\n",
    "    ReviewClassifier class\n",
    "    \"\"\"\n",
    "    def __init__(self,input_size):\n",
    "        \"\"\"\n",
    "        Initialize the classifier\n",
    "        params:\n",
    "            input_size (int): number of features\n",
    "        \"\"\"\n",
    "        super(ReviewClassifier,self).__init__()\n",
    "        self.fc1 = nn.Linear(in_features = input_size,\n",
    "                             out_features = 1)\n",
    "        \n",
    "    def forward(self,inputs,apply_sigmoid = False):\n",
    "        \"\"\"\n",
    "        function performing forward pass\n",
    "        params:\n",
    "            inputs (tensor): input vectors\n",
    "            apply_sigmoid (bool): flag whether to apply sigmoid function or not\n",
    "            \n",
    "        returns:\n",
    "            y_out (tensors): shape (batch_size,)\n",
    "        \"\"\"\n",
    "        y_out = self.fc1(inputs).squeeze()\n",
    "        if apply_sigmoid:\n",
    "            y_out = F.sigmoid(y_out)\n",
    "        return y_out"
   ]
  },
  {
   "cell_type": "markdown",
   "id": "d0eacfcf",
   "metadata": {},
   "source": [
    "### Training the neural network\n",
    "We will load our database which will create a vocabulary and vectorizer. We then get the vectorizer and initialize our classifier."
   ]
  },
  {
   "cell_type": "code",
   "execution_count": 47,
   "id": "45908338",
   "metadata": {},
   "outputs": [],
   "source": [
    "# loading the dataset\n",
    "yelpDB = YelpDataset.load_dataset_and_make_vectorizer('./yelp/reviews_with_splits_lite.csv')\n",
    "\n",
    "# getting the vectorizer\n",
    "vectorizer = yelpDB.get_vectorizer()\n",
    "\n",
    "# initializing the classifier\n",
    "classifier = ReviewClassifier(len(vectorizer.review_vocab))"
   ]
  },
  {
   "cell_type": "code",
   "execution_count": 48,
   "id": "1e7a22b7",
   "metadata": {},
   "outputs": [],
   "source": [
    "def compute_accuracy(y_pred,y_target):\n",
    "    \"\"\"\n",
    "    function to compute accuracy metrics using logits\n",
    "    \"\"\"\n",
    "    # applying sigmoid function and generating predicted class indices based on .5 threshold\n",
    "    y_pred_indices = (torch.sigmoid(y_pred) > 0.5).long()\n",
    "\n",
    "    # counting correctly predicted instances\n",
    "    n_correct = (y_pred_indices == y_target).sum().item()\n",
    "    \n",
    "    return n_correct / len(y_pred_indices) * 100"
   ]
  },
  {
   "cell_type": "markdown",
   "id": "533887b1",
   "metadata": {},
   "source": [
    "Now, we will move to the most fun part of building our classifier, i.e., training the neural network with the yelp dataset. During the training, we iterate over several epochs. During each epoch, training occurs on the complete training dataset.\n",
    "\n",
    "For each epoch, we start by setting the gradients of the optimizer as zero. Then, we perform a forward pass where computation is performed on the input data. The output of the classifier is used to compute the loss which is then used to make a backward pass. Finally, the weight parameters are updated. We have also included code to compute running loss and accuracy for training and validation both.\n",
    "\n",
    ":::{.important}\n",
    "\n",
    "    During validation and testing, we only perform the forward pass.\n",
    "    \n",
    ":::"
   ]
  },
  {
   "cell_type": "code",
   "execution_count": 51,
   "id": "d90863e3",
   "metadata": {},
   "outputs": [
    {
     "name": "stdout",
     "output_type": "stream",
     "text": [
      "\n",
      "Epoch :0\n",
      "  Training   ==> Loss: 0.64 Accuracy: 72.57\n",
      "  Validation ==> Loss: 0.60 Accuracy: 82.32\n",
      "\n",
      "Epoch :1\n",
      "  Training   ==> Loss: 0.57 Accuracy: 83.34\n",
      "  Validation ==> Loss: 0.54 Accuracy: 84.48\n",
      "\n",
      "Epoch :2\n",
      "  Training   ==> Loss: 0.52 Accuracy: 84.79\n",
      "  Validation ==> Loss: 0.50 Accuracy: 85.15\n",
      "\n",
      "Epoch :3\n",
      "  Training   ==> Loss: 0.48 Accuracy: 85.93\n",
      "  Validation ==> Loss: 0.46 Accuracy: 85.92\n",
      "\n",
      "Epoch :4\n",
      "  Training   ==> Loss: 0.45 Accuracy: 86.85\n",
      "  Validation ==> Loss: 0.44 Accuracy: 86.58\n",
      "\n",
      "Epoch :5\n",
      "  Training   ==> Loss: 0.42 Accuracy: 87.57\n",
      "  Validation ==> Loss: 0.42 Accuracy: 87.19\n",
      "\n",
      "Epoch :6\n",
      "  Training   ==> Loss: 0.40 Accuracy: 88.26\n",
      "  Validation ==> Loss: 0.40 Accuracy: 87.82\n",
      "\n",
      "Epoch :7\n",
      "  Training   ==> Loss: 0.38 Accuracy: 88.91\n",
      "  Validation ==> Loss: 0.38 Accuracy: 88.40\n",
      "\n",
      "Epoch :8\n",
      "  Training   ==> Loss: 0.37 Accuracy: 89.40\n",
      "  Validation ==> Loss: 0.37 Accuracy: 88.93\n",
      "\n",
      "Epoch :9\n",
      "  Training   ==> Loss: 0.35 Accuracy: 89.82\n",
      "  Validation ==> Loss: 0.35 Accuracy: 89.24\n",
      "\n",
      "Epoch :10\n",
      "  Training   ==> Loss: 0.34 Accuracy: 90.19\n",
      "  Validation ==> Loss: 0.34 Accuracy: 89.49\n",
      "\n",
      "Epoch :11\n",
      "  Training   ==> Loss: 0.33 Accuracy: 90.47\n",
      "  Validation ==> Loss: 0.33 Accuracy: 89.83\n",
      "\n",
      "Epoch :12\n",
      "  Training   ==> Loss: 0.32 Accuracy: 90.78\n",
      "  Validation ==> Loss: 0.32 Accuracy: 90.11\n",
      "\n",
      "Epoch :13\n",
      "  Training   ==> Loss: 0.31 Accuracy: 91.01\n",
      "  Validation ==> Loss: 0.31 Accuracy: 90.29\n",
      "\n",
      "Epoch :14\n",
      "  Training   ==> Loss: 0.30 Accuracy: 91.22\n",
      "  Validation ==> Loss: 0.31 Accuracy: 90.37\n",
      "\n",
      "Epoch :15\n",
      "  Training   ==> Loss: 0.29 Accuracy: 91.44\n",
      "  Validation ==> Loss: 0.30 Accuracy: 90.48\n",
      "\n",
      "Epoch :16\n",
      "  Training   ==> Loss: 0.28 Accuracy: 91.62\n",
      "  Validation ==> Loss: 0.29 Accuracy: 90.63\n",
      "\n",
      "Epoch :17\n",
      "  Training   ==> Loss: 0.28 Accuracy: 91.72\n",
      "  Validation ==> Loss: 0.29 Accuracy: 90.80\n",
      "\n",
      "Epoch :18\n",
      "  Training   ==> Loss: 0.27 Accuracy: 91.87\n",
      "  Validation ==> Loss: 0.28 Accuracy: 90.83\n",
      "\n",
      "Epoch :19\n",
      "  Training   ==> Loss: 0.27 Accuracy: 92.01\n",
      "  Validation ==> Loss: 0.28 Accuracy: 90.93\n"
     ]
    }
   ],
   "source": [
    "from torch import optim\n",
    "\n",
    "# for reproducibility\n",
    "np.random.seed(3223)\n",
    "torch.manual_seed(3223)\n",
    "\n",
    "# loss function\n",
    "loss_func = nn.BCEWithLogitsLoss()\n",
    "\n",
    "# optimizer\n",
    "optimizer = optim.Adam(classifier.parameters(),lr=.0001)\n",
    "\n",
    "num_epochs = 20\n",
    "batch_size = 100\n",
    "\n",
    "# iterate over number of epochs\n",
    "for epoch in range(num_epochs):\n",
    "    \n",
    "    # set the split to use training data\n",
    "    yelpDB.set_split('train')\n",
    "    \n",
    "    batch_generator = generate_batches(yelpDB,batch_size=batch_size)\n",
    "    \n",
    "    train_running_loss = 0.0\n",
    "    train_running_acc = 0.0\n",
    "    \n",
    "    classifier.train()\n",
    "\n",
    "    for batch_index, batch_dict in enumerate(batch_generator):\n",
    "        \n",
    "        # zeros the optimizer gradients\n",
    "        optimizer.zero_grad()\n",
    "        \n",
    "        # forward pass\n",
    "        y_pred = classifier(batch_dict['x_data'].float())\n",
    "        \n",
    "        # computing loss\n",
    "        loss = loss_func(y_pred,batch_dict['y_target'].float())\n",
    "        \n",
    "        loss_t = loss.item()\n",
    "        \n",
    "        train_running_loss += (loss_t - train_running_loss)/ (batch_index + 1)\n",
    "        \n",
    "        acc_t = compute_accuracy(y_pred,batch_dict['y_target'])\n",
    "        \n",
    "        train_running_acc += (acc_t - train_running_acc) / (batch_index + 1)\n",
    "        \n",
    "        # backward pass\n",
    "        loss.backward()\n",
    "        \n",
    "        # updating the weight parameters\n",
    "        optimizer.step()\n",
    "\n",
    "    # setting the split to use validation set\n",
    "    yelpDB.set_split('val')\n",
    "    \n",
    "    # batch generator\n",
    "    batch_generator = generate_batches(yelpDB,batch_size=batch_size)\n",
    "    val_running_loss = 0.0\n",
    "    val_running_acc = 0.0\n",
    "    classifier.eval()\n",
    "    for batch_index, batch_dict in enumerate(batch_generator):\n",
    "        \n",
    "        # output of neural network\n",
    "        y_pred = classifier(batch_dict['x_data'].float())\n",
    "        \n",
    "        # coputing loss\n",
    "        loss = loss_func(y_pred,batch_dict['y_target'].float())\n",
    "        \n",
    "        loss_t = loss.item()\n",
    "        \n",
    "        val_running_loss += (loss_t - val_running_loss)/ (batch_index + 1)\n",
    "        \n",
    "        acc_t = compute_accuracy(y_pred,batch_dict['y_target'])\n",
    "        val_running_acc += (acc_t - val_running_acc) / (batch_index + 1)\n",
    "        \n",
    "    print('\\nEpoch :{}'.format(epoch))\n",
    "    print('  Training   ==> Loss: {:.2f} Accuracy: {:.2f}'.format(train_running_loss,train_running_acc))\n",
    "    print('  Validation ==> Loss: {:.2f} Accuracy: {:.2f}'.format(val_running_loss,val_running_acc))\n",
    "\n",
    "    "
   ]
  },
  {
   "cell_type": "markdown",
   "id": "aa488f1e",
   "metadata": {},
   "source": [
    "## Evaluation on test data\n"
   ]
  },
  {
   "cell_type": "markdown",
   "id": "b3f16979",
   "metadata": {},
   "source": [
    "Now, we will see how well our classfier performs on test set."
   ]
  },
  {
   "cell_type": "code",
   "execution_count": 52,
   "id": "c23925a6",
   "metadata": {},
   "outputs": [
    {
     "name": "stdout",
     "output_type": "stream",
     "text": [
      "  Test   ==> Loss: 0.29 Accuracy: 90.33\n"
     ]
    }
   ],
   "source": [
    "yelpDB.set_split('test')\n",
    "    \n",
    "batch_generator = generate_batches(yelpDB,batch_size=batch_size)\n",
    "    \n",
    "test_running_loss = 0.0\n",
    "test_running_acc = 0.0\n",
    "    \n",
    "classifier.eval()\n",
    "\n",
    "    \n",
    "for batch_index, batch_dict in enumerate(batch_generator):\n",
    "    y_pred = classifier(batch_dict['x_data'].float())\n",
    "    loss = loss_func(y_pred,batch_dict['y_target'].float())\n",
    "    loss_t = loss.item()\n",
    "    test_running_loss += (loss_t - test_running_loss)/ (batch_index + 1)\n",
    "    acc_t = compute_accuracy(y_pred,batch_dict['y_target'])\n",
    "    test_running_acc += (acc_t - test_running_acc) / (batch_index + 1)\n",
    "    \n",
    "\n",
    "print('  Test   ==> Loss: {:.2f} Accuracy: {:.2f}'.format(test_running_loss,test_running_acc))\n",
    "   "
   ]
  },
  {
   "cell_type": "markdown",
   "id": "809314be",
   "metadata": {},
   "source": [
    "# References\n",
    "1. https://github.com/delip/PyTorchNLPBook\n",
    "2. https://pytorch.org/tutorials/beginner/basics/data_tutorial.html"
   ]
  },
  {
   "cell_type": "code",
   "execution_count": null,
   "id": "d3279df8",
   "metadata": {},
   "outputs": [],
   "source": []
  }
 ],
 "metadata": {
  "kernelspec": {
   "display_name": "Python 3 (ipykernel)",
   "language": "python",
   "name": "python3"
  },
  "language_info": {
   "codemirror_mode": {
    "name": "ipython",
    "version": 3
   },
   "file_extension": ".py",
   "mimetype": "text/x-python",
   "name": "python",
   "nbconvert_exporter": "python",
   "pygments_lexer": "ipython3",
   "version": "3.9.16"
  }
 },
 "nbformat": 4,
 "nbformat_minor": 5
}
