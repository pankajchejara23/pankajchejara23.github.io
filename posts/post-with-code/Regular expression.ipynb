{
 "cells": [
  {
   "cell_type": "markdown",
   "id": "293d7404",
   "metadata": {},
   "source": [
    "---\n",
    "title: \"Introduction to Regular Expression\"\n",
    "author: \"Pankaj Chejara\"\n",
    "date: \"2023-10-10\"\n",
    "categories: [python, regex, regular expression]\n",
    "image: \"./images/map_vis/map.png\"\n",
    "code-block-background: true\n",
    "draft: true\n",
    "highlight-style: \"arrow\"\n",
    "toc: true\n",
    "---\n",
    "# Introduction to regular expression\n",
    "\n",
    "This post will explain the basics of regular expression. Regular expression (regexp in short) is a powerful technique of text searching and text manipulation. Every time you search in your word document using `Ctrl+f`, regular expression works in the background. For text processing, it is of a high importance to know this powerful techinque.\n",
    "\n",
    "Let's take an example to understand it further. We have a set of string given below"
   ]
  },
  {
   "cell_type": "code",
   "execution_count": 1,
   "id": "c5079b48",
   "metadata": {},
   "outputs": [],
   "source": [
    "text = \"abc abcd abcde\""
   ]
  },
  {
   "cell_type": "markdown",
   "id": "c85afe9b",
   "metadata": {},
   "source": [
    "Now, we want to see if there is a string `abc`. In terms of regular expression, we simply search for 'abc'. This is the most basic form of regular expression where we simply specify the actual word or text itself."
   ]
  },
  {
   "cell_type": "code",
   "execution_count": 4,
   "id": "68cddd6d",
   "metadata": {},
   "outputs": [
    {
     "name": "stdout",
     "output_type": "stream",
     "text": [
      "['abc', 'abc', 'abc']\n"
     ]
    }
   ],
   "source": [
    "import re\n",
    "\n",
    "# searching for pattern 'abc' in text\n",
    "result = re.findall('abc',text)\n",
    "\n",
    "print(result)"
   ]
  },
  {
   "cell_type": "markdown",
   "id": "7b163251",
   "metadata": {},
   "source": [
    "We can see in the resul above that there were three occurences of patter 'abc'. We have now seen the most basic form of using regular expression (i.e., simply using the text)."
   ]
  },
  {
   "cell_type": "code",
   "execution_count": null,
   "id": "c7b62cd3",
   "metadata": {},
   "outputs": [],
   "source": []
  }
 ],
 "metadata": {
  "kernelspec": {
   "display_name": "Python 3 (ipykernel)",
   "language": "python",
   "name": "python3"
  },
  "language_info": {
   "codemirror_mode": {
    "name": "ipython",
    "version": 3
   },
   "file_extension": ".py",
   "mimetype": "text/x-python",
   "name": "python",
   "nbconvert_exporter": "python",
   "pygments_lexer": "ipython3",
   "version": "3.9.16"
  }
 },
 "nbformat": 4,
 "nbformat_minor": 5
}
