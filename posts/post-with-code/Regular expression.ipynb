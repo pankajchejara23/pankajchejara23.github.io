{
 "cells": [
  {
   "attachments": {},
   "cell_type": "markdown",
   "id": "293d7404",
   "metadata": {},
   "source": [
    "---\n",
    "title: \"Introduction to Regular Expressions\"\n",
    "author: \"Pankaj Chejara\"\n",
    "date: \"2023-10-10\"\n",
    "categories: [python, regex, regular expression]\n",
    "image: \"./images/regexp/basic.png\"\n",
    "code-block-background: true\n",
    "highlight-style: \"arrow\"\n",
    "toc: true\n",
    "---\n",
    "# Introduction to Regular Expressions\n",
    "\n",
    "This post will explain the basics of regular expression. Regular expression (regexp in short) is a powerful technique of text searching and text manipulation. If you are planning to make your career in the field of natural language processing then regexp is a must have skill in your skill set.  \n",
    "\n",
    "**Example:** Every time you search in your word document using `Ctrl+f`, regular expression works in the background. \n",
    "\n",
    "Let's take an example, given below, to understand it further. "
   ]
  },
  {
   "cell_type": "code",
   "execution_count": 1,
   "id": "c5079b48",
   "metadata": {},
   "outputs": [],
   "source": [
    "text = \"abc abcd abcde\""
   ]
  },
  {
   "cell_type": "markdown",
   "id": "c85afe9b",
   "metadata": {},
   "source": [
    "We want to see if there is a string `abc` present in our text data. To do that we will use the most basic form of regular expressions which specifies the search query using the actual word or text. For example, we want to search for `abc` in our text data, thus, we simply specify the term  `abc` as our regular expression.  \n",
    "\n",
    "The following code illustrates how to search for `abc` in our text data. We will use `re` package."
   ]
  },
  {
   "cell_type": "code",
   "execution_count": 4,
   "id": "68cddd6d",
   "metadata": {},
   "outputs": [
    {
     "name": "stdout",
     "output_type": "stream",
     "text": [
      "['abc', 'abc', 'abc']\n"
     ]
    }
   ],
   "source": [
    "import re\n",
    "\n",
    "# searching for pattern 'abc' in text. use r in the start of the pattern\n",
    "result = re.findall(r'abc',text)\n",
    "\n",
    "print(result)"
   ]
  },
  {
   "cell_type": "markdown",
   "id": "7b163251",
   "metadata": {},
   "source": [
    "We can see in the result above that there were **three occurrences** of pattern `abc``. We have now seen the most basic form of using regular expression (i.e., simply using the text)."
   ]
  },
  {
   "cell_type": "markdown",
   "id": "e860db29",
   "metadata": {},
   "source": []
  },
  {
   "cell_type": "code",
   "execution_count": null,
   "id": "c7b62cd3",
   "metadata": {},
   "outputs": [],
   "source": [
    "Now, we will move towards a more advanced form of regular expressions. Let's change our text data the following\n",
    "\n",
    "text = \"abc abcd abcde bcd apple ddeffe eef ggh\""
   ]
  },
  {
   "cell_type": "code",
   "execution_count": null,
   "id": "3b48d952",
   "metadata": {},
   "outputs": [],
   "source": []
  },
  {
   "cell_type": "markdown",
   "id": "9a33be3a",
   "metadata": {},
   "source": [
    "Let's now search all the words of three characters [no numbers]. We can only use our first approach of specifying the word itself for searching if we know all the three characters long words in the text data. However, we may not necessarily know about all of them. \n",
    "\n",
    "**How to search for three-characters-long words in the text?**\n",
    "\n",
    "To answer this we will use a special purpose character `.` which matches a single occurence of any word character. For our searching, we can simply specify `.` three times to search every three characters word. \n",
    "\n",
    "Let's apply it first to see it's working."
   ]
  },
  {
   "cell_type": "code",
   "execution_count": 6,
   "id": "07165481",
   "metadata": {},
   "outputs": [
    {
     "name": "stdout",
     "output_type": "stream",
     "text": [
      "['abc', ' ab', 'cd ', 'abc', 'de ', 'bcd', ' ap', 'ple', ' dd', 'eff', 'e e', 'ef ', 'ggh']\n"
     ]
    }
   ],
   "source": [
    "import re\n",
    "\n",
    "text = \"abc abcd abcde bcd apple ddeffe eef ggh\"\n",
    "\n",
    "result = re.findall(r'...',text)\n",
    "\n",
    "print(result)"
   ]
  },
  {
   "cell_type": "markdown",
   "id": "c68fedd3",
   "metadata": {},
   "source": [
    "**What went wrong?**\n",
    "The results are not what we expected (i.e., all three-characters-long word). The reason is that the text is treated as sequence of characters and here characters are not limited to alphabets and numbers. Blanks are also considered as characters. So when we specify `.` it matches any single character including blank space.\n",
    "\n",
    "**To correct this** we will use another special character `\\b` which matches word boundry (in our case it is blank spaces between words).\n",
    "\n",
    "Now, we will change our regular expression to `\\b...\\b` which will match three-characters-long words which exists independently. Let's see now the results.\n",
    "\n"
   ]
  },
  {
   "cell_type": "code",
   "execution_count": 8,
   "id": "c89fc0e7",
   "metadata": {},
   "outputs": [
    {
     "name": "stdout",
     "output_type": "stream",
     "text": [
      "['abc', 'bcd', 'eef', 'ggh']\n"
     ]
    }
   ],
   "source": [
    "import re\n",
    "\n",
    "text = \"abc abcd abcde bcd apple ddeffe eef ggh\"\n",
    "\n",
    "result = re.findall(r'\\b...\\b',text)\n",
    "\n",
    "print(result)"
   ]
  },
  {
   "cell_type": "markdown",
   "id": "f270eb2d",
   "metadata": {},
   "source": [
    "**It worked now as expected.**"
   ]
  },
  {
   "cell_type": "markdown",
   "id": "48ca3f03",
   "metadata": {},
   "source": [
    "Similar to the special characters we have seen so far, there are other characters as well with special meaning. These characters makes it easier to create patterns for searching. The list of most commonly used special characters is given below."
   ]
  },
  {
   "cell_type": "markdown",
   "id": "5c23e5dc",
   "metadata": {},
   "source": [
    "| Pattern | Description                                                                           |\n",
    "|---------|---------------------------------------------------------------------------------------|\n",
    "| [abc]   | Matches a single character among a,b,c                                                |\n",
    "| [^abc]  | Matches a single character except a or b or c                                         |\n",
    "| [a-z]   | Matches a single character in a-z                                                     |\n",
    "| [^a-z]  | Matches a single character except a-z                                                 |\n",
    "| .       | Matches any single character                                                          |\n",
    "| `\\d`      | Matches any single digit                                                              |\n",
    "| `\\w`      | Matches any single word character (i.e., a character between a-z or A-Z or _ or 0-9)  |\n",
    "| `\\s`      | Matches any white space character (i.e., space, tab, new line)                        |\n",
    "| `\\b`      | Matches word boundary                                                                 |\n",
    "| ^       | Matches start of string                                                               |\n",
    "| $       | Matches end of string                                                                 |\n",
    "| a?      | Matches zero or one occurrence of character a                                         |\n",
    "| a+      | Matches  one or more occurrences of character a                                       |\n",
    "| a*      | Matches zero or more occurrences of character a                                       |\n",
    "| a{4}    | Matches four occurrences of character a                                               |\n",
    "| a{2,4}  | Matches occurrences of a between 2 to 4                                               |\n",
    "| a{2,}   | Matches either two or more occurrences of a                                           |"
   ]
  },
  {
   "cell_type": "markdown",
   "id": "7d36c626",
   "metadata": {},
   "source": [
    "## Examples"
   ]
  },
  {
   "cell_type": "markdown",
   "id": "0644d5f2",
   "metadata": {},
   "source": [
    "Let's now see some examples of using regular expressions.\n",
    "\n",
    "**Example-1: Search all numbers present in the below text.**"
   ]
  },
  {
   "cell_type": "code",
   "execution_count": 8,
   "id": "bc7279a0",
   "metadata": {},
   "outputs": [
    {
     "name": "stdout",
     "output_type": "stream",
     "text": [
      "['123', '34', '33', '45']\n"
     ]
    }
   ],
   "source": [
    "import re\n",
    "\n",
    "text = 'Apple Bus 123 Air 34 Data 33 45Egg'\n",
    "\n",
    "# \\d matches any digit while + matches one or more occurrence of preceeding pattern (i.e., digit)\n",
    "results = re.findall(r'\\d+',text)\n",
    "\n",
    "# print results\n",
    "print(results)"
   ]
  },
  {
   "cell_type": "markdown",
   "id": "39c84c64",
   "metadata": {},
   "source": [
    ":::{.callout-important}\n",
    "# Match independent word only\n",
    "Remember to use `\\b` in the expression if you want to extract the standalone numbers not which are parts of a string (e.g., 45 in 45Egg).\n",
    ":::"
   ]
  },
  {
   "cell_type": "code",
   "execution_count": 9,
   "id": "61a22641",
   "metadata": {},
   "outputs": [
    {
     "name": "stdout",
     "output_type": "stream",
     "text": [
      "['123', '34', '33']\n"
     ]
    }
   ],
   "source": [
    "import re\n",
    "\n",
    "text = 'Apple Bus 123 Air 34 Data 33 45Egg'\n",
    "\n",
    "# \\d matches any digit while + matches one or more occurrence of preceeding pattern (i.e., digit)\n",
    "results = re.findall(r'\\b\\d+\\b',text)\n",
    "\n",
    "# print results\n",
    "print(results)"
   ]
  },
  {
   "cell_type": "markdown",
   "id": "26cf559d",
   "metadata": {},
   "source": [
    "References\n",
    "1. https://regex101.com/\n",
    "2. https://www.regexone.com/\n",
    "3. https://docs.python.org/3/library/re.html"
   ]
  }
 ],
 "metadata": {
  "kernelspec": {
   "display_name": "Python 3 (ipykernel)",
   "language": "python",
   "name": "python3"
  },
  "language_info": {
   "codemirror_mode": {
    "name": "ipython",
    "version": 3
   },
   "file_extension": ".py",
   "mimetype": "text/x-python",
   "name": "python",
   "nbconvert_exporter": "python",
   "pygments_lexer": "ipython3",
   "version": "3.9.16"
  }
 },
 "nbformat": 4,
 "nbformat_minor": 5
}
